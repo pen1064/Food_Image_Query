{
 "cells": [
  {
   "cell_type": "code",
   "execution_count": 33,
   "id": "6ca6ae8f",
   "metadata": {},
   "outputs": [
    {
     "name": "stdout",
     "output_type": "stream",
     "text": [
      "C:\\Users\\Penelope\\Desktop\\ML\\Food\n"
     ]
    }
   ],
   "source": [
    "import os \n",
    "import glob\n",
    "import pandas \n",
    "from sklearn.model_selection import train_test_split \n",
    "pwd = os.getcwd()\n",
    "print(pwd)"
   ]
  },
  {
   "cell_type": "code",
   "execution_count": 34,
   "id": "24375013",
   "metadata": {},
   "outputs": [
    {
     "name": "stdout",
     "output_type": "stream",
     "text": [
      "['Images\\\\chicken_quesadilla', 'Images\\\\chicken_wings', 'Images\\\\churros', 'Images\\\\club_sandwich', 'Images\\\\donuts', 'Images\\\\dumplings', 'Images\\\\escargots', 'Images\\\\fish_and_chips', 'Images\\\\french_fries', 'Images\\\\fried_rice', 'Images\\\\grilled_cheese_sandwich']\n"
     ]
    }
   ],
   "source": [
    "dishes = glob.glob(r'Images/*')\n",
    "print(dishes)\n",
    "img_files = []\n",
    "labels = []\n",
    "for d in dishes:\n",
    "    files = []\n",
    "    files = glob.glob(d+'/*')\n",
    "    for file in files:\n",
    "        img_files.append(file)\n",
    "        labels.append(d.split('\\\\')[1])"
   ]
  },
  {
   "cell_type": "code",
   "execution_count": 25,
   "id": "e9a95617",
   "metadata": {},
   "outputs": [],
   "source": [
    "#data = pd.DataFrame(columns=['filename', 'dish'])\n",
    "#data['filename'] = img_files\n",
    "#data['dish'] = labels\n",
    "X = img_files#data['filename']\n",
    "y = labels #data['dish']"
   ]
  },
  {
   "cell_type": "code",
   "execution_count": 35,
   "id": "08d4fd53",
   "metadata": {},
   "outputs": [],
   "source": [
    "X_train, X_test, y_train, y_test = train_test_split(X, y, test_size=0.2)"
   ]
  },
  {
   "cell_type": "code",
   "execution_count": 36,
   "id": "e7be777a",
   "metadata": {},
   "outputs": [],
   "source": [
    "train_df = pd.DataFrame(columns=['filename', 'dish'])\n",
    "train_df['filename'] = X_train\n",
    "train_df['dish'] = y_train\n",
    "\n",
    "test_df = pd.DataFrame(columns=['filename', 'dish'])\n",
    "test_df['filename'] = X_test\n",
    "test_df['dish'] = y_test"
   ]
  },
  {
   "cell_type": "code",
   "execution_count": 37,
   "id": "a0c78eec",
   "metadata": {},
   "outputs": [
    {
     "data": {
      "text/html": [
       "<div>\n",
       "<style scoped>\n",
       "    .dataframe tbody tr th:only-of-type {\n",
       "        vertical-align: middle;\n",
       "    }\n",
       "\n",
       "    .dataframe tbody tr th {\n",
       "        vertical-align: top;\n",
       "    }\n",
       "\n",
       "    .dataframe thead th {\n",
       "        text-align: right;\n",
       "    }\n",
       "</style>\n",
       "<table border=\"1\" class=\"dataframe\">\n",
       "  <thead>\n",
       "    <tr style=\"text-align: right;\">\n",
       "      <th></th>\n",
       "      <th>filename</th>\n",
       "      <th>dish</th>\n",
       "    </tr>\n",
       "  </thead>\n",
       "  <tbody>\n",
       "    <tr>\n",
       "      <th>0</th>\n",
       "      <td>Images\\dumplings\\1339572.jpg</td>\n",
       "      <td>dumplings</td>\n",
       "    </tr>\n",
       "    <tr>\n",
       "      <th>1</th>\n",
       "      <td>Images\\french_fries\\850387.jpg</td>\n",
       "      <td>french_fries</td>\n",
       "    </tr>\n",
       "    <tr>\n",
       "      <th>2</th>\n",
       "      <td>Images\\dumplings\\3025491.jpg</td>\n",
       "      <td>dumplings</td>\n",
       "    </tr>\n",
       "  </tbody>\n",
       "</table>\n",
       "</div>"
      ],
      "text/plain": [
       "                         filename          dish\n",
       "0    Images\\dumplings\\1339572.jpg     dumplings\n",
       "1  Images\\french_fries\\850387.jpg  french_fries\n",
       "2    Images\\dumplings\\3025491.jpg     dumplings"
      ]
     },
     "execution_count": 37,
     "metadata": {},
     "output_type": "execute_result"
    }
   ],
   "source": [
    "train_df.head(3)"
   ]
  },
  {
   "cell_type": "code",
   "execution_count": 40,
   "id": "6e81563b",
   "metadata": {},
   "outputs": [
    {
     "name": "stdout",
     "output_type": "stream",
     "text": [
      "{'dumplings': 1, 'french_fries': 2, 'chicken_wings': 3, 'club_sandwich': 4, 'fried_rice': 5, 'fish_and_chips': 6, 'churros': 7, 'chicken_quesadilla': 8, 'escargots': 9, 'grilled_cheese_sandwich': 10, 'donuts': 11}\n"
     ]
    }
   ],
   "source": [
    "dish_cat = {x: i+1 for i,x in enumerate(train_df['dish'].unique())}\n",
    "print(dish_cat)"
   ]
  },
  {
   "cell_type": "code",
   "execution_count": 32,
   "id": "9df52db4",
   "metadata": {},
   "outputs": [],
   "source": [
    "train_df.to_csv('train.csv', index=False)\n",
    "test_df.to_csv('test.csv', index=False)"
   ]
  }
 ],
 "metadata": {
  "kernelspec": {
   "display_name": "Python 3 (ipykernel)",
   "language": "python",
   "name": "python3"
  },
  "language_info": {
   "codemirror_mode": {
    "name": "ipython",
    "version": 3
   },
   "file_extension": ".py",
   "mimetype": "text/x-python",
   "name": "python",
   "nbconvert_exporter": "python",
   "pygments_lexer": "ipython3",
   "version": "3.9.7"
  }
 },
 "nbformat": 4,
 "nbformat_minor": 5
}
